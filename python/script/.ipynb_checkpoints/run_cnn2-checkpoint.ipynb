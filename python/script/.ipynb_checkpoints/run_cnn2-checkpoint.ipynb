{
 "cells": [
  {
   "cell_type": "code",
   "execution_count": 1,
   "metadata": {},
   "outputs": [
    {
     "name": "stderr",
     "output_type": "stream",
     "text": [
      "Using TensorFlow backend.\n"
     ]
    }
   ],
   "source": [
    "import os\n",
    "import cv2\n",
    "import glob\n",
    "import numpy as np\n",
    "import pandas as pd\n",
    "import matplotlib.pyplot as plt\n",
    "from keras.preprocessing import image\n",
    "from common_functions import *"
   ]
  },
  {
   "cell_type": "code",
   "execution_count": 16,
   "metadata": {},
   "outputs": [
    {
     "name": "stdout",
     "output_type": "stream",
     "text": [
      "(448, 256, 256, 3) (96, 256, 256, 3) (96, 256, 256, 3)\n",
      "(448, 8) (96, 8) (96, 8)\n"
     ]
    }
   ],
   "source": [
    "image_size = 256\n",
    "data_x = np.load('../data/cnn_data/x.npy')\n",
    "data_y = np.load('../data/cnn_data/y_{}_coords.npy'.format(image_size))\n",
    "x_train, x_val, x_test, y_train, y_val, y_test = train_val_test_data(data_x, data_y, 0.7, 0.85)"
   ]
  },
  {
   "cell_type": "code",
   "execution_count": 26,
   "metadata": {
    "scrolled": true
   },
   "outputs": [
    {
     "name": "stdout",
     "output_type": "stream",
     "text": [
      "_________________________________________________________________\n",
      "Layer (type)                 Output Shape              Param #   \n",
      "=================================================================\n",
      "input_1 (InputLayer)         (None, 256, 256, 3)       0         \n",
      "_________________________________________________________________\n",
      "conv2d_1 (Conv2D)            (None, 256, 256, 16)      448       \n",
      "_________________________________________________________________\n",
      "max_pooling2d_1 (MaxPooling2 (None, 128, 128, 16)      0         \n",
      "_________________________________________________________________\n",
      "conv2d_2 (Conv2D)            (None, 128, 128, 32)      4640      \n",
      "_________________________________________________________________\n",
      "max_pooling2d_2 (MaxPooling2 (None, 64, 64, 32)        0         \n",
      "_________________________________________________________________\n",
      "conv2d_3 (Conv2D)            (None, 64, 64, 1)         801       \n",
      "_________________________________________________________________\n",
      "max_pooling2d_3 (MaxPooling2 (None, 32, 32, 1)         0         \n",
      "_________________________________________________________________\n",
      "flatten_1 (Flatten)          (None, 1024)              0         \n",
      "_________________________________________________________________\n",
      "dense_1 (Dense)              (None, 128)               131200    \n",
      "_________________________________________________________________\n",
      "batch_normalization_1 (Batch (None, 128)               512       \n",
      "_________________________________________________________________\n",
      "dropout_1 (Dropout)          (None, 128)               0         \n",
      "_________________________________________________________________\n",
      "dense_2 (Dense)              (None, 64)                8256      \n",
      "_________________________________________________________________\n",
      "batch_normalization_2 (Batch (None, 64)                256       \n",
      "_________________________________________________________________\n",
      "dropout_2 (Dropout)          (None, 64)                0         \n",
      "_________________________________________________________________\n",
      "dense_3 (Dense)              (None, 8)                 520       \n",
      "=================================================================\n",
      "Total params: 146,633\n",
      "Trainable params: 146,249\n",
      "Non-trainable params: 384\n",
      "_________________________________________________________________\n",
      "(?, 8)\n",
      "(?, 4)\n",
      "(?, 4)\n",
      "()\n"
     ]
    }
   ],
   "source": [
    "import keras.backend as K\n",
    "from keras.models import Model, Sequential\n",
    "from keras.layers import Input, Conv2D, MaxPooling2D, Flatten, Dense, BatchNormalization, Dropout\n",
    "from keras.optimizers import Adam\n",
    "from keras.losses import binary_crossentropy\n",
    "\n",
    "K.clear_session()\n",
    "\n",
    "input_shape = (256, 256, 3)\n",
    "inputs = Input(shape = input_shape)\n",
    "\n",
    "x = Conv2D(16, 3, activation='relu', padding='same')(inputs)\n",
    "x = MaxPooling2D((2, 2))(x)\n",
    "x = Conv2D(32, 3, activation='relu', padding='same')(x)\n",
    "x = MaxPooling2D((2, 2))(x)\n",
    "x = Conv2D(1, 5, activation='sigmoid', padding='same')(x)\n",
    "x = MaxPooling2D((2, 2))(x)\n",
    "\n",
    "x = Flatten()(x)\n",
    "x = Dense(128, activation='relu')(x)\n",
    "x = BatchNormalization()(x)\n",
    "x = Dropout(0.2)(x)\n",
    "x = Dense(64, activation='relu')(x)\n",
    "x = BatchNormalization()(x)\n",
    "x = Dropout(0.2)(x)\n",
    "x = Dense(8, activation='sigmoid')(x)\n",
    "\n",
    "model = Model(inputs=inputs, outputs=x)\n",
    "# model.summary()\n",
    "\n",
    "def coord_to_mask(coord_array):\n",
    "    points = np.array([[int(coord_array[0]*255.0), int(coord_array[1]*255.0)], \n",
    "                       [int(coord_array[2]*255.0), int(coord_array[3]*255.0)], \n",
    "                       [int(coord_array[4]*255.0), int(coord_array[5]*255.0)], \n",
    "                       [int(coord_array[6]*255.0), int(coord_array[7]*255.0)]])\n",
    "    single_image = np.zeros((256, 256, 1)).astype(np.float32)\n",
    "    cv2.fillConvexPoly(single_image, points, (1))\n",
    "    return single_image\n",
    "\n",
    "def my_loss(y_true, y_pred):\n",
    "    sq_distances = K.square(y_true - y_pred)\n",
    "    print(sq_distances.shape)\n",
    "    sum_pool = K.sum(K.reshape(sq_distances, (-1,4,2)), axis=-1)\n",
    "    print(sum_pool.shape)    \n",
    "    dists = K.sqrt(sum_pool)\n",
    "    print(dists.shape)\n",
    "    mean_dist = K.mean(dists)\n",
    "    print(mean_dist.shape)\n",
    "    return mean_dist\n",
    "\n",
    "model.compile(optimizer=Adam(1e-3, decay=1e-6),\n",
    "              loss=my_loss)\n",
    "#               loss='mean_squared_error')"
   ]
  },
  {
   "cell_type": "code",
   "execution_count": 23,
   "metadata": {},
   "outputs": [],
   "source": [
    "# from keras.models import model_from_json\n",
    "# model = model_from_json(open('../model/FE15_screen_model.json').read())\n",
    "# model.load_weights('../model/FE15_screen_model_weights.h5')\n",
    "\n",
    "# model_json_str = model.to_json()\n",
    "# open('../model/FE15_screen_model.json', 'w').write(model_json_str)\n",
    "# model.save_weights('../model/FE15_screen_model_weights.h5')\n",
    "\n",
    "# import coremltools\n",
    "# coreml_model = coremltools.converters.keras.convert(model,\n",
    "#     input_names=\"image\",\n",
    "#     output_names=\"screen\")\n",
    "# coreml_model.save('../model/core_model.mlmodel')"
   ]
  },
  {
   "cell_type": "code",
   "execution_count": 27,
   "metadata": {
    "scrolled": false
   },
   "outputs": [
    {
     "name": "stdout",
     "output_type": "stream",
     "text": [
      "Train on 448 samples, validate on 96 samples\n",
      "Epoch 1/10\n",
      "448/448 [==============================] - 24s 53ms/step - loss: 0.5393 - val_loss: 0.7082\n",
      "Epoch 2/10\n",
      "448/448 [==============================] - 24s 53ms/step - loss: 0.4569 - val_loss: 0.5619\n",
      "Epoch 3/10\n",
      "448/448 [==============================] - 24s 53ms/step - loss: 0.3707 - val_loss: 0.3543\n",
      "Epoch 4/10\n",
      "448/448 [==============================] - 23s 51ms/step - loss: 0.2818 - val_loss: 0.1988\n",
      "Epoch 5/10\n",
      "448/448 [==============================] - 23s 52ms/step - loss: 0.2003 - val_loss: 0.2285\n",
      "Epoch 6/10\n",
      "448/448 [==============================] - 23s 51ms/step - loss: 0.1503 - val_loss: 0.1119\n",
      "Epoch 7/10\n",
      "448/448 [==============================] - 23s 52ms/step - loss: 0.1233 - val_loss: 0.0898\n",
      "Epoch 8/10\n",
      "448/448 [==============================] - 26s 58ms/step - loss: 0.1109 - val_loss: 0.0902\n",
      "Epoch 9/10\n",
      "448/448 [==============================] - 24s 52ms/step - loss: 0.1010 - val_loss: 0.0608\n",
      "Epoch 10/10\n",
      "448/448 [==============================] - 24s 54ms/step - loss: 0.0955 - val_loss: 0.0531\n"
     ]
    }
   ],
   "source": [
    "history = model.fit(x_train, y_train, epochs=10, validation_data=(x_val, y_val), batch_size=10, verbose=1)\n",
    "y_pred = model.predict(x_test)"
   ]
  },
  {
   "cell_type": "code",
   "execution_count": 28,
   "metadata": {
    "scrolled": false
   },
   "outputs": [
    {
     "name": "stdout",
     "output_type": "stream",
     "text": [
      "0\n"
     ]
    },
    {
     "data": {
      "image/png": "[encoded data removed]",
      "text/plain": [
       "<PIL.Image.Image image mode=L size=256x256 at 0x13C434048>"
      ]
     },
     "metadata": {},
     "output_type": "display_data"
    },
    {
     "data": {
      "image/png": "[encoded data removed]",
      "text/plain": [
       "<PIL.Image.Image image mode=L size=256x256 at 0x13C434160>"
      ]
     },
     "metadata": {},
     "output_type": "display_data"
    },
    {
     "name": "stdout",
     "output_type": "stream",
     "text": [
      "1\n"
     ]
    },
    {
     "data": {
      "image/png": "[encoded data removed]",
      "text/plain": [
       "<PIL.Image.Image image mode=L size=256x256 at 0x13C434198>"
      ]
     },
     "metadata": {},
     "output_type": "display_data"
    },
    {
     "data": {
      "image/png": "[encoded data removed]",
      "text/plain": [
       "<PIL.Image.Image image mode=L size=256x256 at 0x13C434198>"
      ]
     },
     "metadata": {},
     "output_type": "display_data"
    },
    {
     "name": "stdout",
     "output_type": "stream",
     "text": [
      "2\n"
     ]
    },
    {
     "data": {
      "image/png": "[encoded data removed]",
      "text/plain": [
       "<PIL.Image.Image image mode=L size=256x256 at 0x13C434160>"
      ]
     },
     "metadata": {},
     "output_type": "display_data"
    },
    {
     "data": {
      "image/png": "[encoded data removed]",
      "text/plain": [
       "<PIL.Image.Image image mode=L size=256x256 at 0x13C434160>"
      ]
     },
     "metadata": {},
     "output_type": "display_data"
    },
    {
     "name": "stdout",
     "output_type": "stream",
     "text": [
      "3\n"
     ]
    },
    {
     "data": {
      "image/png": "[encoded data removed]",
      "text/plain": [
       "<PIL.Image.Image image mode=L size=256x256 at 0x13C434160>"
      ]
     },
     "metadata": {},
     "output_type": "display_data"
    },
    {
     "data": {
      "image/png": "[encoded data removed]",
      "text/plain": [
       "<PIL.Image.Image image mode=L size=256x256 at 0x13C434160>"
      ]
     },
     "metadata": {},
     "output_type": "display_data"
    },
    {
     "name": "stdout",
     "output_type": "stream",
     "text": [
      "4\n"
     ]
    },
    {
     "data": {
      "image/png": "[encoded data removed]",
      "text/plain": [
       "<PIL.Image.Image image mode=L size=256x256 at 0x13C434048>"
      ]
     },
     "metadata": {},
     "output_type": "display_data"
    },
    {
     "data": {
      "image/png": "[encoded data removed]",
      "text/plain": [
       "<PIL.Image.Image image mode=L size=256x256 at 0x13C434198>"
      ]
     },
     "metadata": {},
     "output_type": "display_data"
    },
    {
     "name": "stdout",
     "output_type": "stream",
     "text": [
      "5\n"
     ]
    },
    {
     "data": {
      "image/png": "[encoded data removed]",
      "text/plain": [
       "<PIL.Image.Image image mode=L size=256x256 at 0x13C4341D0>"
      ]
     },
     "metadata": {},
     "output_type": "display_data"
    },
    {
     "data": {
      "image/png": "[encoded data removed]",
      "text/plain": [
       "<PIL.Image.Image image mode=L size=256x256 at 0x13C4341D0>"
      ]
     },
     "metadata": {},
     "output_type": "display_data"
    },
    {
     "name": "stdout",
     "output_type": "stream",
     "text": [
      "6\n"
     ]
    },
    {
     "data": {
      "image/png": "[encoded data removed]",
      "text/plain": [
       "<PIL.Image.Image image mode=L size=256x256 at 0x13C434198>"
      ]
     },
     "metadata": {},
     "output_type": "display_data"
    },
    {
     "data": {
      "image/png": "[encoded data removed]",
      "text/plain": [
       "<PIL.Image.Image image mode=L size=256x256 at 0x13C434198>"
      ]
     },
     "metadata": {},
     "output_type": "display_data"
    },
    {
     "name": "stdout",
     "output_type": "stream",
     "text": [
      "7\n"
     ]
    },
    {
     "data": {
      "image/png": "[encoded data removed]",
      "text/plain": [
       "<PIL.Image.Image image mode=L size=256x256 at 0x13C4341D0>"
      ]
     },
     "metadata": {},
     "output_type": "display_data"
    },
    {
     "data": {
      "image/png": "[encoded data removed]",
      "text/plain": [
       "<PIL.Image.Image image mode=L size=256x256 at 0x13C4341D0>"
      ]
     },
     "metadata": {},
     "output_type": "display_data"
    },
    {
     "name": "stdout",
     "output_type": "stream",
     "text": [
      "8\n"
     ]
    },
    {
     "data": {
      "image/png": "[encoded data removed]",
      "text/plain": [
       "<PIL.Image.Image image mode=L size=256x256 at 0x13C434198>"
      ]
     },
     "metadata": {},
     "output_type": "display_data"
    },
    {
     "data": {
      "image/png": "[encoded data removed]",
      "text/plain": [
       "<PIL.Image.Image image mode=L size=256x256 at 0x13C434198>"
      ]
     },
     "metadata": {},
     "output_type": "display_data"
    },
    {
     "name": "stdout",
     "output_type": "stream",
     "text": [
      "9\n"
     ]
    },
    {
     "data": {
      "image/png": "[encoded data removed]",
      "text/plain": [
       "<PIL.Image.Image image mode=L size=256x256 at 0x13C4341D0>"
      ]
     },
     "metadata": {},
     "output_type": "display_data"
    },
    {
     "data": {
      "image/png": "[encoded data removed]",
      "text/plain": [
       "<PIL.Image.Image image mode=L size=256x256 at 0x13C4341D0>"
      ]
     },
     "metadata": {},
     "output_type": "display_data"
    }
   ],
   "source": [
    "for index in range(10):\n",
    "    print(index)\n",
    "    show_image(coord_to_mask(y_test[index]))\n",
    "    show_image(coord_to_mask(y_pred[index]))"
   ]
  },
  {
   "cell_type": "code",
   "execution_count": null,
   "metadata": {},
   "outputs": [],
   "source": [
    "pd.DataFrame(history.history)[['dice_coef', 'binary_accuracy', 'val_dice_coef', 'val_binary_accuracy']].plot()\n",
    "plt.show()"
   ]
  },
  {
   "cell_type": "code",
   "execution_count": null,
   "metadata": {
    "scrolled": false
   },
   "outputs": [],
   "source": [
    "from keras.preprocessing import image\n",
    "\n",
    "def find_edge(y_pred):\n",
    "    corner_size = image_size\n",
    "    img = np.zeros((corner_size, corner_size, 3))\n",
    "    gray = y_pred.astype(np.uint8) * 255\n",
    "    \n",
    "    # Find contours\n",
    "    _, contours, hierarchy = cv2.findContours(gray, cv2.RETR_EXTERNAL, cv2.CHAIN_APPROX_SIMPLE)\n",
    "    contours = sorted(contours, key=cv2.contourArea, reverse=True) \n",
    "\n",
    "    # Select long perimeters only\n",
    "    perimeters = np.array([cv2.arcLength(contours[i], True) for i in range(len(contours))])\n",
    "    p_index = np.argmax(perimeters[:15])\n",
    "\n",
    "    # Show image\n",
    "    imgcont = img.copy()\n",
    "    cv2.drawContours(imgcont, [contours[p_index]], 0, (255,255,255), 2)\n",
    "    return image.array_to_img(imgcont)\n",
    "\n",
    "def calc_distance(p1, p2):\n",
    "    return (p1[0] - p2[0]) ** 2 + (p1[1] - p2[1]) ** 2\n",
    "\n",
    "def find_nearest_coord(x, point):\n",
    "    result_list = []\n",
    "    for p in x:\n",
    "        d = calc_distance(point, p)\n",
    "        result_list.append(d)\n",
    "    nearest_coord = x[np.argmin(result_list)]\n",
    "    point = x[np.argmin(result_list)]\n",
    "    point[0] = point[0] * (256.0 / image_size)\n",
    "    point[1] = point[1] * (256.0 / image_size)\n",
    "    return point\n",
    "\n",
    "def find_coner_coords(y_pred):\n",
    "    corner_size = image_size\n",
    "    gray = y_pred.astype(np.uint8) * 255\n",
    "    \n",
    "    # Find contours\n",
    "    _, contours, hierarchy = cv2.findContours(gray, cv2.RETR_EXTERNAL, cv2.CHAIN_APPROX_SIMPLE)\n",
    "    contours = sorted(contours, key=cv2.contourArea, reverse=True)\n",
    "    \n",
    "    ul = find_nearest_coord(np.squeeze(contours[0], axis=1), [0, 0])\n",
    "    ur = find_nearest_coord(np.squeeze(contours[0], axis=1), [corner_size, 0])\n",
    "    lr = find_nearest_coord(np.squeeze(contours[0], axis=1), [corner_size, corner_size])\n",
    "    ll = find_nearest_coord(np.squeeze(contours[0], axis=1), [0, corner_size])\n",
    "    return np.array([ul, ur, lr, ll])\n",
    "\n",
    "def find_pred_mask(points):\n",
    "    corner_size = image_size\n",
    "    img = np.zeros((corner_size, corner_size, 3))\n",
    "    imgcont = img.copy()\n",
    "    cv2.fillConvexPoly(imgcont, points, (255, 255, 255))\n",
    "    return image.array_to_img(imgcont)\n",
    "\n",
    "def find_screen(x, points):\n",
    "    imgcont = x.copy()\n",
    "    cv2.polylines(imgcont, [points], True, (255, 255, 255), 2)\n",
    "    return image.array_to_img(imgcont)\n",
    "\n",
    "i = 0\n",
    "for x_t, y_t, y_p in zip(x_test, y_test, y_pred):\n",
    "    x_image = image.array_to_img(x_t)\n",
    "    y_true_mask = image.array_to_img(y_t)\n",
    "    y_pred_image = image.array_to_img(y_p)\n",
    "    \n",
    "    tmp_image = (np.squeeze((y_p>0.95).astype(np.uint8), axis=-1) * 255)\n",
    "    edges = cv2.Canny(tmp_image, 100, 200)\n",
    "    y_edge_image = image.array_to_img(np.expand_dims(edges, axis=-1))\n",
    "    y_correct_edge_image = find_edge(y_p>0.95)\n",
    "    \n",
    "    points = find_coner_coords(y_p>0.8)\n",
    "    x_pred_image = find_screen(x_t, points)\n",
    "    y_pred_mask = find_pred_mask(points)\n",
    "#     display(x_image, y_true_mask, y_pred_image, y_edge_image, y_correct_edge_image, y_pred_mask, x_pred_image)\n",
    "    display(x_pred_image)\n",
    "    \n",
    "#     if i >= 60:\n",
    "#         break\n",
    "#     i += 1"
   ]
  },
  {
   "cell_type": "code",
   "execution_count": 75,
   "metadata": {},
   "outputs": [],
   "source": [
    "array = np.array([0,1,2,3,4,5,6,7])"
   ]
  },
  {
   "cell_type": "code",
   "execution_count": 77,
   "metadata": {},
   "outputs": [
    {
     "data": {
      "text/plain": [
       "array([[0, 1],\n",
       "       [2, 3],\n",
       "       [4, 5],\n",
       "       [6, 7]])"
      ]
     },
     "execution_count": 77,
     "metadata": {},
     "output_type": "execute_result"
    }
   ],
   "source": [
    "np.reshape(array, (4,2))"
   ]
  },
  {
   "cell_type": "code",
   "execution_count": null,
   "metadata": {},
   "outputs": [],
   "source": []
  }
 ],
 "metadata": {
  "kernelspec": {
   "display_name": "Python 3",
   "language": "python",
   "name": "python3"
  },
  "language_info": {
   "codemirror_mode": {
    "name": "ipython",
    "version": 3
   },
   "file_extension": ".py",
   "mimetype": "text/x-python",
   "name": "python",
   "nbconvert_exporter": "python",
   "pygments_lexer": "ipython3",
   "version": "3.6.1"
  }
 },
 "nbformat": 4,
 "nbformat_minor": 2
}

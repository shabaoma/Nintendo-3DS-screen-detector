{
 "cells": [
  {
   "cell_type": "code",
   "execution_count": 1,
   "metadata": {},
   "outputs": [
    {
     "name": "stderr",
     "output_type": "stream",
     "text": [
      "Using TensorFlow backend.\n"
     ]
    }
   ],
   "source": [
    "from keras.preprocessing.image import ImageDataGenerator\n",
    "from keras.applications.vgg16 import preprocess_input\n",
    "\n",
    "IMG_SIZE = (512, 512) # slightly smaller than vgg16 normally expects\n",
    "default_batch_size = 8\n",
    "\n",
    "dg_args = dict(featurewise_center = False, \n",
    "               samplewise_center = False,\n",
    "               rotation_range = 5, \n",
    "               width_shift_range = 0.01, \n",
    "               height_shift_range = 0.01, \n",
    "               shear_range = 0.01,\n",
    "               zoom_range = [0.9, 1.1],  \n",
    "               horizontal_flip = False,\n",
    "               vertical_flip = False, # no upside down cars\n",
    "               fill_mode = 'nearest',\n",
    "               data_format = 'channels_last',\n",
    "               preprocessing_function = preprocess_input)\n",
    "\n",
    "core_idg = ImageDataGenerator(**dg_args)\n",
    "mask_args = dg_args.copy()\n",
    "mask_args['preprocessing_function'] = lambda x: x / 255.0\n",
    "mask_idg = ImageDataGenerator(**mask_args)"
   ]
  },
  {
   "cell_type": "code",
   "execution_count": 2,
   "metadata": {},
   "outputs": [],
   "source": [
    "def flow_from_dataframe(img_data_gen, in_df, path_col, y_col, **dflow_args):\n",
    "    base_dir = os.path.dirname(in_df[path_col].values[0])\n",
    "    print('## Ignore next message from keras, values are replaced anyways')\n",
    "    df_gen = img_data_gen.flow_from_directory(base_dir, \n",
    "                                     class_mode = 'sparse',\n",
    "                                    **dflow_args)\n",
    "    df_gen.filenames = in_df[path_col].values\n",
    "    df_gen.classes = np.stack(in_df[y_col].values)\n",
    "    df_gen.samples = in_df.shape[0]\n",
    "    df_gen.n = in_df.shape[0]\n",
    "    df_gen._set_index_array()\n",
    "    df_gen.directory = '' # since we have the full path\n",
    "    print('Reinserting dataframe: {} images'.format(in_df.shape[0]))\n",
    "    return df_gen"
   ]
  },
  {
   "cell_type": "code",
   "execution_count": 3,
   "metadata": {},
   "outputs": [],
   "source": [
    "def make_gen(img_gen, mask_gen, in_df, batch_size = default_batch_size, seed = None, shuffle = True):\n",
    "    if seed is None:\n",
    "        seed = np.random.choice(range(9999))\n",
    "    flow_args = dict(target_size = IMG_SIZE, \n",
    "                     batch_size = batch_size, \n",
    "                     seed = seed,\n",
    "                     shuffle = shuffle,\n",
    "                    y_col = 'key_id')\n",
    "    t0_gen = flow_from_dataframe(img_gen, in_df, \n",
    "                                 path_col = 'path',\n",
    "                                 color_mode = 'rgb',\n",
    "                                **flow_args)\n",
    "    dm_gen = flow_from_dataframe(mask_gen, in_df, \n",
    "                                 path_col = 'mask_path',\n",
    "                                 color_mode = 'grayscale',\n",
    "                                **flow_args)\n",
    "    for (t0_img, _), (dm_img, _) in zip(t0_gen, dm_gen):\n",
    "        yield [t0_img], dm_img"
   ]
  },
  {
   "cell_type": "code",
   "execution_count": 4,
   "metadata": {},
   "outputs": [
    {
     "ename": "NameError",
     "evalue": "name 'train_df' is not defined",
     "output_type": "error",
     "traceback": [
      "\u001b[0;31m---------------------------------------------------------------------------\u001b[0m",
      "\u001b[0;31mNameError\u001b[0m                                 Traceback (most recent call last)",
      "\u001b[0;32m<ipython-input-4-282497910298>\u001b[0m in \u001b[0;36m<module>\u001b[0;34m()\u001b[0m\n\u001b[0;32m----> 1\u001b[0;31m \u001b[0mtrain_gen\u001b[0m \u001b[0;34m=\u001b[0m \u001b[0mmake_gen\u001b[0m\u001b[0;34m(\u001b[0m\u001b[0mcore_idg\u001b[0m\u001b[0;34m,\u001b[0m \u001b[0mmask_idg\u001b[0m\u001b[0;34m,\u001b[0m \u001b[0mtrain_df\u001b[0m\u001b[0;34m)\u001b[0m\u001b[0;34m\u001b[0m\u001b[0m\n\u001b[0m",
      "\u001b[0;31mNameError\u001b[0m: name 'train_df' is not defined"
     ]
    }
   ],
   "source": [
    "train_gen = make_gen(core_idg, mask_idg, train_df)"
   ]
  },
  {
   "cell_type": "code",
   "execution_count": 23,
   "metadata": {},
   "outputs": [],
   "source": [
    "import numpy as np\n",
    "import pandas as pd\n",
    "from glob import glob\n",
    "from skimage.io import imread\n",
    "all_img_df = pd.DataFrame(dict(path = glob('../data/resized_image/*')))"
   ]
  },
  {
   "cell_type": "code",
   "execution_count": 24,
   "metadata": {},
   "outputs": [
    {
     "data": {
      "text/plain": [
       "(31, 512, 512, 3)"
      ]
     },
     "execution_count": 24,
     "metadata": {},
     "output_type": "execute_result"
    }
   ],
   "source": [
    "t0_img = np.array([imread(path) for path in all_img_df['path'].values])\n",
    "t0_img.shape"
   ]
  },
  {
   "cell_type": "code",
   "execution_count": 40,
   "metadata": {},
   "outputs": [
    {
     "data": {
      "text/plain": [
       "(1, 512, 512, 3)"
      ]
     },
     "execution_count": 40,
     "metadata": {},
     "output_type": "execute_result"
    }
   ],
   "source": [
    "from keras.preprocessing import image\n",
    "_, t_row = next(all_img_df.sample(1).iterrows())\n",
    "img = image.load_img(t_row['path'])\n",
    "x = image.img_to_array(img)\n",
    "x = np.expand_dims(x, axis=0)\n",
    "x.shape"
   ]
  },
  {
   "cell_type": "code",
   "execution_count": 56,
   "metadata": {},
   "outputs": [],
   "source": [
    "from keras.preprocessing.image import ImageDataGenerator\n",
    "from keras.applications.vgg16 import preprocess_input\n",
    "\n",
    "IMG_SIZE = (512, 512) # slightly smaller than vgg16 normally expects\n",
    "default_batch_size = 8\n",
    "\n",
    "dg_args = dict(featurewise_center = False, \n",
    "               samplewise_center = False,\n",
    "               rotation_range = 5, \n",
    "               width_shift_range = 0.01, \n",
    "               height_shift_range = 0.01, \n",
    "               shear_range = 0.01,\n",
    "               zoom_range = [0.9, 1.1],  \n",
    "               horizontal_flip = False, \n",
    "               vertical_flip = False, # no upside down cars\n",
    "               fill_mode = 'nearest',\n",
    "               data_format = 'channels_last',\n",
    "               preprocessing_function = preprocess_input)\n",
    "\n",
    "\n",
    "core_idg = ImageDataGenerator(**dg_args)\n",
    "\n",
    "mask_args = dg_args.copy()\n",
    "mask_args['preprocessing_function'] = lambda x: x / 255.0\n",
    "mask_idg = ImageDataGenerator(**mask_args)"
   ]
  },
  {
   "cell_type": "code",
   "execution_count": 59,
   "metadata": {
    "scrolled": false
   },
   "outputs": [
    {
     "name": "stdout",
     "output_type": "stream",
     "text": [
      "(1, 512, 512, 3)\n"
     ]
    },
    {
     "data": {
      "image/png": "[encoded data removed]",
      "text/plain": [
       "<PIL.Image.Image image mode=RGB size=512x512 at 0x10434FCC0>"
      ]
     },
     "metadata": {},
     "output_type": "display_data"
    },
    {
     "name": "stdout",
     "output_type": "stream",
     "text": [
      "(1, 512, 512, 3)\n"
     ]
    },
    {
     "data": {
      "image/png": "[encoded data removed]",
      "text/plain": [
       "<PIL.Image.Image image mode=RGB size=512x512 at 0x10434FA90>"
      ]
     },
     "metadata": {},
     "output_type": "display_data"
    },
    {
     "name": "stdout",
     "output_type": "stream",
     "text": [
      "(1, 512, 512, 3)\n"
     ]
    },
    {
     "data": {
      "image/png": "[encoded data removed]",
      "text/plain": [
       "<PIL.Image.Image image mode=RGB size=512x512 at 0x10434FCC0>"
      ]
     },
     "metadata": {},
     "output_type": "display_data"
    },
    {
     "name": "stdout",
     "output_type": "stream",
     "text": [
      "(1, 512, 512, 3)\n"
     ]
    },
    {
     "data": {
      "image/png": "[encoded data removed]",
      "text/plain": [
       "<PIL.Image.Image image mode=RGB size=512x512 at 0x10434FA90>"
      ]
     },
     "metadata": {},
     "output_type": "display_data"
    },
    {
     "name": "stdout",
     "output_type": "stream",
     "text": [
      "(1, 512, 512, 3)\n"
     ]
    },
    {
     "data": {
      "image/png": "[encoded data removed]",
      "text/plain": [
       "<PIL.Image.Image image mode=RGB size=512x512 at 0x10434FCC0>"
      ]
     },
     "metadata": {},
     "output_type": "display_data"
    },
    {
     "name": "stdout",
     "output_type": "stream",
     "text": [
      "(1, 512, 512, 3)\n"
     ]
    },
    {
     "data": {
      "image/png": "[encoded data removed]",
      "text/plain": [
       "<PIL.Image.Image image mode=RGB size=512x512 at 0x10434FA90>"
      ]
     },
     "metadata": {},
     "output_type": "display_data"
    },
    {
     "name": "stdout",
     "output_type": "stream",
     "text": [
      "(1, 512, 512, 3)\n"
     ]
    },
    {
     "data": {
      "image/png": "[encoded data removed]",
      "text/plain": [
       "<PIL.Image.Image image mode=RGB size=512x512 at 0x10434FCF8>"
      ]
     },
     "metadata": {},
     "output_type": "display_data"
    }
   ],
   "source": [
    "from PIL import Image\n",
    "from IPython.display import display\n",
    "\n",
    "i = 0\n",
    "for array in mask_idg.flow(x, batch_size=1):\n",
    "    print(array.shape)\n",
    "    img = Image.fromarray(np.uint8(array[0]))\n",
    "    display(img)\n",
    "    \n",
    "    if i > 5:\n",
    "        break\n",
    "    i += 1"
   ]
  },
  {
   "cell_type": "code",
   "execution_count": null,
   "metadata": {},
   "outputs": [],
   "source": []
  }
 ],
 "metadata": {
  "kernelspec": {
   "display_name": "Python 3",
   "language": "python",
   "name": "python3"
  },
  "language_info": {
   "codemirror_mode": {
    "name": "ipython",
    "version": 3
   },
   "file_extension": ".py",
   "mimetype": "text/x-python",
   "name": "python",
   "nbconvert_exporter": "python",
   "pygments_lexer": "ipython3",
   "version": "3.6.1"
  }
 },
 "nbformat": 4,
 "nbformat_minor": 2
}
